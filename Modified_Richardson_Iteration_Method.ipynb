{
 "cells": [
  {
   "cell_type": "code",
   "execution_count": null,
   "metadata": {},
   "outputs": [],
   "source": [
    "# Modified Richardson iteration"
   ]
  },
  {
   "cell_type": "markdown",
   "metadata": {},
   "source": [
    "From https://en.wikipedia.org/wiki/Modified_Richardson_iteration:\n",
    "\n",
    "Modified Richardson iteration is an iterative method for solving a system of linear equations.\n",
    "\n",
    "We seek the solution to a set of linear equations, expressed in matrix terms as:\n",
    "$ A x = b.\\, $\n",
    "\n",
    "The Richardson iteration is:\n",
    "$$\n",
    "x^{(k+1)}  = x^{(k)} + \\omega \\left( b - A x^{(k)} \\right),\n",
    "$$\n",
    "\n",
    "where $\\omega$ is a scalar parameter that has to be chosen such that the sequence $x^{(k)}$ converges.\n",
    "\n",
    "Suppose that $A$ is Symmetric positive definite and that $(\\lambda_j)_j$ are the eigenvalues of $A$. The error converges to $0$ if $| 1 - \\omega \\lambda_j |< 1$ for all eigenvalues $\\lambda_j$. If, e.g., all eigenvalues are positive, this can be guaranteed if $\\omega$ is chosen such that $0 < \\omega < \\omega_\\text{max}\\,, \\ \\omega_\\text{max}:= 2/\\lambda_{\\text{max}}(A)$. The optimal choice, minimizing all $| 1 - \\omega \\lambda_j |$, is $\\omega_\\text{opt} := 2/(\\lambda_\\text{min}(A)+\\lambda_\\text{max}(A))$."
   ]
  },
  {
   "cell_type": "markdown",
   "metadata": {},
   "source": [
    "#### Stop Condition:\n",
    "$$ \\lVert X^{(k+1)} - X^{(k)} \\rVert_2 \\le 10^{-4}$$"
   ]
  },
  {
   "cell_type": "code",
   "execution_count": 3,
   "metadata": {},
   "outputs": [],
   "source": [
    "import numpy as np"
   ]
  },
  {
   "cell_type": "code",
   "execution_count": 2,
   "metadata": {},
   "outputs": [],
   "source": [
    "def Modified_Richardson(A, b, initial_guess):\n",
    "    eigenvalues, _ = np.linalg.eig(A)\n",
    "    for i in eigenvalues: \n",
    "        if i <=0:\n",
    "            print('Input matrix is not positive definitive')\n",
    "            return\n",
    "    x = initial_guess\n",
    "    \n",
    "    omega = 2/(np.min(eigenvalues)+np.max(eigenvalues))\n",
    "    while(1):\n",
    "        x = x + omega*(b - A@x)\n",
    "        if np.linalg.norm(A@x-b, np.inf) < 10**(-4):\n",
    "            break\n",
    "    return x"
   ]
  },
  {
   "cell_type": "code",
   "execution_count": 4,
   "metadata": {},
   "outputs": [
    {
     "name": "stdout",
     "output_type": "stream",
     "text": [
      "A:\n",
      "[[4. 1.]\n",
      " [1. 3.]]\n",
      "\n",
      "b:\n",
      "[[1.]\n",
      " [2.]]\n",
      "\n",
      "Solution:\n",
      "[[0.09093021]\n",
      " [0.63636766]]\n"
     ]
    }
   ],
   "source": [
    "A = np.matrix([[4.0,1.0],\n",
    "               [1.0,3.0]])\n",
    "\n",
    "b = np.matrix([[1.0],[2.0]])\n",
    "\n",
    "initialGuess = np.matrix([[2.0],[1.0]])\n",
    "\n",
    "sol = Modified_Richardson(A,b,initialGuess)\n",
    "\n",
    "print ('A:')\n",
    "print(A)\n",
    "\n",
    "print ('\\nb:')\n",
    "print(b)\n",
    "\n",
    "print('\\nSolution:')\n",
    "print(sol)"
   ]
  },
  {
   "cell_type": "code",
   "execution_count": null,
   "metadata": {},
   "outputs": [],
   "source": []
  }
 ],
 "metadata": {
  "kernelspec": {
   "display_name": "Python 3",
   "language": "python",
   "name": "python3"
  },
  "language_info": {
   "codemirror_mode": {
    "name": "ipython",
    "version": 3
   },
   "file_extension": ".py",
   "mimetype": "text/x-python",
   "name": "python",
   "nbconvert_exporter": "python",
   "pygments_lexer": "ipython3",
   "version": "3.6.8"
  }
 },
 "nbformat": 4,
 "nbformat_minor": 2
}
