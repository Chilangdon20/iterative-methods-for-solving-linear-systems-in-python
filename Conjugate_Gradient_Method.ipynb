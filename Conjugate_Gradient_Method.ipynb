{
 "cells": [
  {
   "cell_type": "markdown",
   "metadata": {},
   "source": [
    "# Conjugate gradient method"
   ]
  },
  {
   "cell_type": "markdown",
   "metadata": {},
   "source": [
    "From https://en.wikipedia.org/wiki/Conjugate_gradient_method:\n",
    "\n",
    "In mathematics, the conjugate gradient method is an algorithm for the numerical solution of particular systems of linear equations, namely those whose matrix is symmetric and positive-definite.\n",
    "\n",
    "#### Description\n",
    "Let $A\\mathbf x = \\mathbf b$ be a square system of $n$ linear equations.\n",
    "<br>\n",
    "<br>\n",
    "<br>\n",
    "#### The Algorithm:\n",
    "<br>\n",
    "$\\begin{align}\n",
    "& \\mathbf{r}_0 := \\mathbf{b} - \\mathbf{A x}_0 \\\\\n",
    "& \\hbox{if } \\mathbf{r}_{0} \\text{ is sufficiently small, then return } \\mathbf{x}_{0} \\text{ as the result}\\\\\n",
    "& \\mathbf{p}_0 := \\mathbf{r}_0 \\\\\n",
    "& k := 0 \\\\\n",
    "& \\text{repeat} \\\\\n",
    "& \\qquad \\alpha_k := \\frac{\\mathbf{r}_k^\\mathsf{T} \\mathbf{r}_k}{\\mathbf{p}_k^\\mathsf{T} \\mathbf{A p}_k}  \\\\\n",
    "& \\qquad \\mathbf{x}_{k+1} := \\mathbf{x}_k + \\alpha_k \\mathbf{p}_k \\\\\n",
    "& \\qquad \\mathbf{r}_{k+1} := \\mathbf{r}_k - \\alpha_k \\mathbf{A p}_k \\\\\n",
    "& \\qquad \\hbox{if } \\mathbf{r}_{k+1} \\text{ is sufficiently small, then exit loop} \\\\\n",
    "& \\qquad \\beta_k := \\frac{\\mathbf{r}_{k+1}^\\mathsf{T} \\mathbf{r}_{k+1}}{\\mathbf{r}_k^\\mathsf{T} \\mathbf{r}_k} \\\\\n",
    "& \\qquad \\mathbf{p}_{k+1} := \\mathbf{r}_{k+1} + \\beta_k \\mathbf{p}_k \\\\\n",
    "& \\qquad k := k + 1 \\\\\n",
    "& \\text{end repeat} \\\\\n",
    "& \\text{return } \\mathbf{x}_{k+1} \\text{ as the result}\n",
    "\\end{align}$\n",
    "<br>\n",
    "<br>\n",
    "\n",
    "#### Stop Condition:\n",
    "$$ \\lVert X^{(k+1)} - X^{(k)} \\rVert_2 \\le 10^{-4}$$\n"
   ]
  },
  {
   "cell_type": "code",
   "execution_count": 2,
   "metadata": {},
   "outputs": [],
   "source": [
    "import numpy as np"
   ]
  },
  {
   "cell_type": "code",
   "execution_count": 1,
   "metadata": {},
   "outputs": [],
   "source": [
    "def conjgrad(A, b, initial_guess):\n",
    "    x = initial_guess\n",
    "    #Symbol of matrix multiplication in numpy is @\n",
    "    r = b - A@x\n",
    "    p = r\n",
    "    \n",
    "    while(1):\n",
    "        Ap = A@p\n",
    "        alpha = (r.T@r)/(p.T@Ap)\n",
    "        alpha = np.asscalar(alpha)\n",
    "        x_old = x\n",
    "        x = x + alpha*p\n",
    "        x_new = x\n",
    "        #using norm2:\n",
    "        if np.linalg.norm(x_new-x_old) < 10**(-4):\n",
    "            break\n",
    "        r_old = r\n",
    "        r = r - alpha*Ap\n",
    "        beta = (r.T@r)/(r_old.T@r_old)        \n",
    "        beta = np.asscalar(beta)\n",
    "        p = r + beta*p\n",
    "    return x\n"
   ]
  },
  {
   "cell_type": "code",
   "execution_count": 5,
   "metadata": {},
   "outputs": [
    {
     "name": "stdout",
     "output_type": "stream",
     "text": [
      "A:\n",
      "[[2. 5.]\n",
      " [5. 7.]]\n",
      "\n",
      "b:\n",
      "[[11.]\n",
      " [13.]]\n",
      "\n",
      "Solution:\n",
      "[[-1.09090909]\n",
      " [ 2.63636364]]\n"
     ]
    }
   ],
   "source": [
    "A = np.matrix([[2.0,5.0],\n",
    "               [5.0,7.0]])\n",
    "\n",
    "b = np.matrix([[11.0],[13.0]])\n",
    "\n",
    "initialGuess = np.matrix([[1.0],[1.0]])\n",
    "\n",
    "sol = conjgrad(A,b,initialGuess)\n",
    "\n",
    "print ('A:')\n",
    "print(A)\n",
    "\n",
    "print ('\\nb:')\n",
    "print(b)\n",
    "\n",
    "print('\\nSolution:')\n",
    "print(sol)"
   ]
  },
  {
   "cell_type": "code",
   "execution_count": null,
   "metadata": {},
   "outputs": [],
   "source": []
  }
 ],
 "metadata": {
  "kernelspec": {
   "display_name": "Python 3",
   "language": "python",
   "name": "python3"
  },
  "language_info": {
   "codemirror_mode": {
    "name": "ipython",
    "version": 3
   },
   "file_extension": ".py",
   "mimetype": "text/x-python",
   "name": "python",
   "nbconvert_exporter": "python",
   "pygments_lexer": "ipython3",
   "version": "3.6.8"
  }
 },
 "nbformat": 4,
 "nbformat_minor": 2
}
