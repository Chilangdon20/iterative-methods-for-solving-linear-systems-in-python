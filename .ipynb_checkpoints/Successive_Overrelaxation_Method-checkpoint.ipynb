{
 "cells": [
  {
   "cell_type": "markdown",
   "metadata": {},
   "source": [
    "# Successive Overrelaxation Method"
   ]
  },
  {
   "cell_type": "markdown",
   "metadata": {},
   "source": [
    "From https://en.wikipedia.org/wiki/Successive_over-relaxation:\n",
    "\n",
    "In numerical linear algebra, the method of successive over-relaxation (SOR) is a variant of the Gauss–Seidel method for solving a linear system of equations, resulting in faster convergence.\n",
    "\n",
    "\n",
    "Given a square system of $n$ linear equations with unknown $x$:\n",
    "\n",
    "$A\\mathbf x = \\mathbf b$\n",
    "\n",
    "where:\n",
    "\n",
    "$A=\\begin{bmatrix} a_{11} & a_{12} & \\cdots & a_{1n} \\\\ a_{21} & a_{22} & \\cdots & a_{2n} \\\\ \\vdots & \\vdots & \\ddots & \\vdots \\\\a_{n1} & a_{n2} & \\cdots & a_{nn} \\end{bmatrix}, \\qquad  \\mathbf{x} = \\begin{bmatrix} x_{1} \\\\ x_2 \\\\ \\vdots \\\\ x_n \\end{bmatrix} , \\qquad  \\mathbf{b} = \\begin{bmatrix} b_{1} \\\\ b_2 \\\\ \\vdots \\\\ b_n \\end{bmatrix}.$\n",
    "\n",
    "Then $A$ can be decomposed into a diagonal matrix $D$, and strictly lower and upper triangular matrices $L$ and $U$:\n",
    "\n",
    "$A=D+L+U, $\n",
    "where:\n",
    "<br>\n",
    "<br>\n",
    "\n",
    "$D = \\begin{bmatrix} a_{11} & 0 & \\cdots & 0 \\\\ 0 & a_{22} & \\cdots & 0 \\\\ \\vdots & \\vdots & \\ddots & \\vdots \\\\0 & 0 & \\cdots & a_{nn} \\end{bmatrix}, \\quad L = \\begin{bmatrix} 0 & 0 & \\cdots & 0 \\\\ a_{21} & 0 & \\cdots & 0 \\\\ \\vdots & \\vdots & \\ddots & \\vdots \\\\a_{n1} & a_{n2} & \\cdots & 0 \\end{bmatrix}, \\quad U = \\begin{bmatrix} 0 & a_{12} & \\cdots & a_{1n} \\\\ 0 & 0 & \\cdots & a_{2n} \\\\ \\vdots & \\vdots & \\ddots & \\vdots \\\\0 & 0 & \\cdots & 0 \\end{bmatrix}. $\n",
    "\n",
    "<br>\n",
    "<br>\n",
    "<br>\n",
    "$$ \\mathbf{x}^{(k+1)} = (D+\\omega L)^{-1} \\big(\\omega \\mathbf{b} - [\\omega U + (\\omega-1) D ] \\mathbf{x}^{(k)}\\big)$$\n",
    "\n",
    "where $\\mathbf{x}^{(k)}$ is the ''k''th approximation or iteration of $\\mathbf{x}$ and $\\mathbf{x}^{(k+1)}$ is the next or ''k'' + 1 iteration of $\\mathbf{x}$.\n",
    "<br>\n",
    "<br>\n",
    "<br>\n",
    "If $\\omega=1$, the SOR method simplifies to the Gauss-Seidel method.\n"
   ]
  },
  {
   "cell_type": "markdown",
   "metadata": {},
   "source": [
    "#### Stop Condition:\n",
    "$$ \\lVert X^{(k+1)} - X^{(k)} \\rVert_2 \\le 10^{-4}$$"
   ]
  },
  {
   "cell_type": "code",
   "execution_count": 3,
   "metadata": {},
   "outputs": [],
   "source": [
    "import numpy as np"
   ]
  },
  {
   "cell_type": "code",
   "execution_count": 4,
   "metadata": {},
   "outputs": [],
   "source": [
    "def SOR(A, b, initial_guess):\n",
    "    #Decomposing the matrix A into a diagonal matrix, a strictly lower matrix, and a strictly\n",
    "    # upper matrix:\n",
    "    U = np.triu(A,1)\n",
    "    L = np.tril(A,-1)\n",
    "    Diagnal = np.diag(A)\n",
    "    D = np.diagflat(Diagnal)\n",
    "    x = initial_guess\n",
    "    \n",
    "    #omega parameter must be between 0 and 2, otherwise the series diverges:\n",
    "    omega = 1.9\n",
    "    \n",
    "    a1 = np.linalg.inv(D + omega*L)\n",
    "    a2 = omega*b\n",
    "    a3 = omega*U + (omega - 1)*D\n",
    "    while(1):\n",
    "        #Symbol of matrix multiplication in numpy is @\n",
    "        x = a1@(a2-a3@x)\n",
    "        #Norm2:\n",
    "        if np.linalg.norm(A@x-b, np.inf) < 5*10**(-4):\n",
    "            break\n",
    "    return x "
   ]
  },
  {
   "cell_type": "code",
   "execution_count": 6,
   "metadata": {},
   "outputs": [
    {
     "name": "stdout",
     "output_type": "stream",
     "text": [
      "A:\n",
      "[[4. 1.]\n",
      " [1. 3.]]\n",
      "\n",
      "b:\n",
      "[[1.]\n",
      " [2.]]\n",
      "\n",
      "Solution:\n",
      "[[0.09103337]\n",
      " [0.63616071]]\n"
     ]
    }
   ],
   "source": [
    "A = np.matrix([[4.0,1.0],\n",
    "               [1.0,3.0]])\n",
    "\n",
    "b = np.matrix([[1.0],[2.0]])\n",
    "\n",
    "initialGuess = np.matrix([[2.0],[1.0]])\n",
    "\n",
    "sol = SOR(A,b,initialGuess)\n",
    "\n",
    "print ('A:')\n",
    "print(A)\n",
    "\n",
    "print ('\\nb:')\n",
    "print(b)\n",
    "\n",
    "print('\\nSolution:')\n",
    "print(sol)"
   ]
  },
  {
   "cell_type": "code",
   "execution_count": null,
   "metadata": {},
   "outputs": [],
   "source": []
  }
 ],
 "metadata": {
  "kernelspec": {
   "display_name": "Python 3",
   "language": "python",
   "name": "python3"
  },
  "language_info": {
   "codemirror_mode": {
    "name": "ipython",
    "version": 3
   },
   "file_extension": ".py",
   "mimetype": "text/x-python",
   "name": "python",
   "nbconvert_exporter": "python",
   "pygments_lexer": "ipython3",
   "version": "3.6.8"
  }
 },
 "nbformat": 4,
 "nbformat_minor": 2
}
