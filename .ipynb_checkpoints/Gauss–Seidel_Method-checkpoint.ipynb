{
 "cells": [
  {
   "cell_type": "markdown",
   "metadata": {},
   "source": [
    "# Gauss–Seidel method"
   ]
  },
  {
   "cell_type": "markdown",
   "metadata": {},
   "source": [
    "From https://en.wikipedia.org/wiki/Gauss–Seidel_method: \n",
    "#### Gauss–Seidel method\n",
    "In numerical linear algebra, the Gauss–Seidel method, also known as the Liebmann method or the method of successive displacement, is an iterative method used to solve a linear system of equations\n",
    "<br>\n",
    "<br>\n",
    "#### Description\n",
    "Let\n",
    ":$A\\mathbf x = \\mathbf b$\n",
    "\n",
    "be a square system of $n$ linear equations, where:\n",
    "\n",
    "$A=\\begin{bmatrix} a_{11} & a_{12} & \\cdots & a_{1n} \\\\ a_{21} & a_{22} & \\cdots & a_{2n} \\\\ \\vdots & \\vdots & \\ddots & \\vdots \\\\a_{n1} & a_{n2} & \\cdots & a_{nn} \\end{bmatrix}, \\qquad  \\mathbf{x} = \\begin{bmatrix} x_{1} \\\\ x_2 \\\\ \\vdots \\\\ x_n \\end{bmatrix} , \\qquad  \\mathbf{b} = \\begin{bmatrix} b_{1} \\\\ b_2 \\\\ \\vdots \\\\ b_n \\end{bmatrix}.$\n",
    "\n",
    "Then $A$ can be decomposed into a diagonal matrix $L_*$, and the remainder $U$:\n",
    "\n",
    "$$A=L_*+U \\qquad \\text{where} \\qquad L_* = \\begin{bmatrix} a_{11} & 0 & \\cdots & 0 \\\\ a_{21} & a_{22} & \\cdots & 0 \\\\ \\vdots & \\vdots & \\ddots & \\vdots \\\\a_{n1} & a_{n2} & \\cdots & a_{nn} \\end{bmatrix}, \\quad U = \\begin{bmatrix} 0 & a_{12} & \\cdots & a_{1n} \\\\ 0 & 0 & \\cdots & a_{2n} \\\\ \\vdots & \\vdots & \\ddots & \\vdots \\\\0 & 0 & \\cdots & 0 \\end{bmatrix}.$$\n",
    "<br>\n"
   ]
  },
  {
   "cell_type": "markdown",
   "metadata": {},
   "source": [
    "$$\\mathbf{x}^{(k+1)} = L_*^{-1} (\\mathbf{b} - U \\mathbf{x}^{(k)})$$\n",
    "\n",
    "#### Equivalently:\n",
    "##### (In the following Code following equations have been used):\n",
    "$$ \\mathbf{x}^{(k+1)} = T \\mathbf{x}^{(k)} + C$$\n",
    "$$T = - L_*^{-1} U$$\n",
    "$$C = L_*^{-1} \\mathbf{b}$$\n",
    "\n",
    "#### Stop Condition:\n",
    "$$ \\lVert X^{(k+1)} - X^{(k)} \\rVert_2 \\le 10^{-4}$$"
   ]
  },
  {
   "cell_type": "code",
   "execution_count": 3,
   "metadata": {},
   "outputs": [],
   "source": [
    "import numpy as np"
   ]
  },
  {
   "cell_type": "code",
   "execution_count": 4,
   "metadata": {},
   "outputs": [],
   "source": [
    "def Gauss_Seidel(A,b,initial_guess):\n",
    "    #Decomposing matrix A into a lower triangle matrix and a strictly upper triangle matrix:\n",
    "    L = np.tril(A)\n",
    "    U = np.triu(A,1)\n",
    "    #Calculating the inverse of matrix L:\n",
    "    L_inv = np.linalg.inv(L)\n",
    "    \n",
    "    #Symbol of matrix multiplication in numpy is @\n",
    "    T = -L_inv@U\n",
    "    C = L_inv@b\n",
    "    x = initial_guess\n",
    "\n",
    "    \n",
    "    while(1):\n",
    "        x_old = x\n",
    "        x = T@x + C\n",
    "        x_new = x\n",
    "        #using norm2:\n",
    "        if np.linalg.norm(x_new-x_old) < 10**(-4):\n",
    "            break\n",
    "    return x"
   ]
  },
  {
   "cell_type": "code",
   "execution_count": 5,
   "metadata": {},
   "outputs": [
    {
     "name": "stdout",
     "output_type": "stream",
     "text": [
      "A:\n",
      "[[2. 1.]\n",
      " [5. 7.]]\n",
      "\n",
      "b:\n",
      "[[11.]\n",
      " [13.]]\n",
      "\n",
      "Solution:\n",
      "[[ 7.11108566]\n",
      " [-3.22220404]]\n"
     ]
    }
   ],
   "source": [
    "A = np.matrix([[2.0,1.0],\n",
    "               [5.0,7.0]])\n",
    "b = np.matrix([[11.0],[13.0]])\n",
    "initialGuess = np.matrix([[1.0],[1.0]])\n",
    "\n",
    "sol = Gauss_Seidel(A,b,initialGuess)\n",
    "\n",
    "print ('A:')\n",
    "print(A)\n",
    "\n",
    "print ('\\nb:')\n",
    "print(b)\n",
    "\n",
    "print('\\nSolution:')\n",
    "print(sol)"
   ]
  },
  {
   "cell_type": "code",
   "execution_count": null,
   "metadata": {},
   "outputs": [],
   "source": []
  }
 ],
 "metadata": {
  "kernelspec": {
   "display_name": "Python 3",
   "language": "python",
   "name": "python3"
  },
  "language_info": {
   "codemirror_mode": {
    "name": "ipython",
    "version": 3
   },
   "file_extension": ".py",
   "mimetype": "text/x-python",
   "name": "python",
   "nbconvert_exporter": "python",
   "pygments_lexer": "ipython3",
   "version": "3.6.8"
  }
 },
 "nbformat": 4,
 "nbformat_minor": 2
}
