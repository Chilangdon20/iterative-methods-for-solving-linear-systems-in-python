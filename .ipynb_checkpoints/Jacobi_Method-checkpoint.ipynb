{
 "cells": [
  {
   "cell_type": "markdown",
   "metadata": {},
   "source": [
    "# Jacobi Method"
   ]
  },
  {
   "cell_type": "markdown",
   "metadata": {},
   "source": [
    "From: https://en.wikipedia.org/wiki/Jacobi_method :\n",
    "#### Jacobi Method\n",
    "In numerical linear algebra, the Jacobi method is an iterative algorithm for determining the solutions of a diagonally dominant system of linear equations.\n",
    "<br>\n",
    "<br>\n",
    "#### Convergence\n",
    "A sufficient (but not necessary) condition for the method to converge is that the matrix A is strictly or irreducibly diagonally dominant.\n",
    "\n",
    "<br>\n",
    "<br>\n",
    "\n",
    "#### Description\n",
    "Let\n",
    ":$A\\mathbf x = \\mathbf b$\n",
    "\n",
    "be a square system of $n$ linear equations, where:\n",
    "\n",
    "$A=\\begin{bmatrix} a_{11} & a_{12} & \\cdots & a_{1n} \\\\ a_{21} & a_{22} & \\cdots & a_{2n} \\\\ \\vdots & \\vdots & \\ddots & \\vdots \\\\a_{n1} & a_{n2} & \\cdots & a_{nn} \\end{bmatrix}, \\qquad  \\mathbf{x} = \\begin{bmatrix} x_{1} \\\\ x_2 \\\\ \\vdots \\\\ x_n \\end{bmatrix} , \\qquad  \\mathbf{b} = \\begin{bmatrix} b_{1} \\\\ b_2 \\\\ \\vdots \\\\ b_n \\end{bmatrix}.$\n",
    "\n",
    "Then ''A'' can be decomposed into a diagonal matrix $D$, and the remainder $R$:\n",
    "\n",
    ":$A=D+R \\qquad \\text{where} \\qquad D = \\begin{bmatrix} a_{11} & 0 & \\cdots & 0 \\\\ 0 & a_{22} & \\cdots & 0 \\\\ \\vdots & \\vdots & \\ddots & \\vdots \\\\0 & 0 & \\cdots & a_{nn} \\end{bmatrix} \\text{ and } R = \\begin{bmatrix} 0 & a_{12} & \\cdots & a_{1n} \\\\ a_{21} & 0 & \\cdots & a_{2n} \\\\ \\vdots & \\vdots & \\ddots & \\vdots \\\\ a_{n1} & a_{n2} & \\cdots & 0 \\end{bmatrix}. $\n",
    "\n",
    "The solution is then obtained iteratively via\n",
    ":$ \\mathbf{x}^{(k+1)} = D^{-1} (\\mathbf{b} - R \\mathbf{x}^{(k)}), $\n",
    "\n",
    "where $\\mathbf{x}^{(k)}$ is the $k$th approximation or iteration of $\\mathbf{x}$ and $\\mathbf{x}^{(k+1)}$ is the next or $k$ + 1 iteration of $\\mathbf{x}$."
   ]
  },
  {
   "cell_type": "markdown",
   "metadata": {},
   "source": [
    "$$x^{(k+1)}=D^{-1}(b - Rx^{(k)})$$\n",
    "#### Equivalently:\n",
    "##### (In the following Code following equations have been used):\n",
    "$$x^{(k+1)}= Tx^{(k)} + C $$ \n",
    "$$T=-D^{-1}R $$\n",
    "$$C = D^{-1}b $$\n",
    "\n",
    "#### Stop Condition:\n",
    "$$ \\lVert X^{(k+1)} - X^{(k)} \\rVert_2 \\le 10^{-4}$$\n"
   ]
  },
  {
   "cell_type": "code",
   "execution_count": 1,
   "metadata": {},
   "outputs": [],
   "source": [
    "import numpy as np"
   ]
  },
  {
   "cell_type": "code",
   "execution_count": 2,
   "metadata": {},
   "outputs": [],
   "source": [
    "def jacobi(A,b,initial_guess):\n",
    "    #Extracting Diagonal elements from input matrix A:\n",
    "    Diagnal = np.diag(A)\n",
    "    D = np.diagflat(Diagnal)\n",
    "    \n",
    "    #Calculating Invese of D:\n",
    "    D_inv = np.linalg.inv(D)\n",
    "    \n",
    "    #Calculating R:\n",
    "    R = A - D\n",
    "    \n",
    "    #Symbol of matrix multiplication in numpy is @\n",
    "    T = -D_inv@R\n",
    "    C = D_inv@b\n",
    "    x = initial_guess\n",
    "\n",
    "    while(1):\n",
    "        x_old = x\n",
    "        x = T@x + C\n",
    "        x_new = x\n",
    "        #using norm2:\n",
    "        if np.linalg.norm(x_new-x_old) <= 10**(-4):\n",
    "            break\n",
    "    return x"
   ]
  },
  {
   "cell_type": "code",
   "execution_count": 3,
   "metadata": {},
   "outputs": [
    {
     "name": "stdout",
     "output_type": "stream",
     "text": [
      "A:\n",
      "[[2. 1.]\n",
      " [5. 7.]]\n",
      "\n",
      "b:\n",
      "[[11.]\n",
      " [13.]]\n",
      "\n",
      "Solution:\n",
      "[[ 7.11103743]\n",
      " [-3.22217131]]\n"
     ]
    }
   ],
   "source": [
    "A = np.matrix([[2.0,1.0],\n",
    "               [5.0,7.0]])\n",
    "\n",
    "b = np.matrix([[11.0],[13.0]])\n",
    "\n",
    "initialGuess = np.matrix([[1.0],[1.0]])\n",
    "\n",
    "sol = jacobi(A,b,initialGuess)\n",
    "\n",
    "print ('A:')\n",
    "print(A)\n",
    "\n",
    "print ('\\nb:')\n",
    "print(b)\n",
    "\n",
    "print('\\nSolution:')\n",
    "print(sol)"
   ]
  },
  {
   "cell_type": "code",
   "execution_count": null,
   "metadata": {},
   "outputs": [],
   "source": []
  }
 ],
 "metadata": {
  "kernelspec": {
   "display_name": "Python 3",
   "language": "python",
   "name": "python3"
  },
  "language_info": {
   "codemirror_mode": {
    "name": "ipython",
    "version": 3
   },
   "file_extension": ".py",
   "mimetype": "text/x-python",
   "name": "python",
   "nbconvert_exporter": "python",
   "pygments_lexer": "ipython3",
   "version": "3.6.8"
  }
 },
 "nbformat": 4,
 "nbformat_minor": 2
}
